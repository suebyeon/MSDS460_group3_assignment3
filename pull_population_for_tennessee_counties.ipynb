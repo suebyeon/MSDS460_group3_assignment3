{
 "cells": [
  {
   "cell_type": "code",
   "execution_count": 1,
   "id": "b41ffe92",
   "metadata": {},
   "outputs": [],
   "source": [
    "# example api call from https://api.census.gov/data/2020/dec/pl/examples.html\n",
    "\n",
    "# https://api.census.gov/data/2020/dec/pl?get=NAME&for=county:*&in=state:*&key=YOUR_KEY_GOES_HERE\n",
    "\n",
    "# get= : what data to get - Name = name of whatever is in the for= section \n",
    "# for= : where to get data for\n",
    "# county:* = all counties\n",
    "\n",
    "# P1_001N is total pop from https://api.census.gov/data/2020/dec/pl/variables.html\n",
    "\n",
    "#P1_003N is white pop\n",
    "\n",
    "# https://api.census.gov/data/2020/dec/pl?get=NAME&P1_001N&for=county:*&in=state:*\n",
    "\n",
    "# tennessee = state 47\n",
    "\n",
    "# https://api.census.gov/data/2020/dec/pl?get=NAME&P1_001N&P1_003N&for=county:*&in=state:47\n",
    "\n",
    "# above gets name, total pop, white pop for all counties in state 47 (Tennessee)\n",
    "\n",
    "import requests\n",
    "import json\n",
    "import pandas as pd\n",
    "import datetime\n",
    "import numpy as np\n",
    "\n",
    "response = requests.get(f\"https://api.census.gov/data/2020/dec/pl?get=NAME&P1_001N&P1_003N&for=county:*&in=state:47\")\n"
   ]
  },
  {
   "cell_type": "code",
   "execution_count": 2,
   "id": "f2670b65",
   "metadata": {},
   "outputs": [
    {
     "name": "stdout",
     "output_type": "stream",
     "text": [
      "200\n"
     ]
    }
   ],
   "source": [
    "print(response.status_code)"
   ]
  },
  {
   "cell_type": "code",
   "execution_count": 3,
   "id": "85e64b40",
   "metadata": {},
   "outputs": [],
   "source": [
    "#print(response.json())"
   ]
  },
  {
   "cell_type": "code",
   "execution_count": 4,
   "id": "1601dcec",
   "metadata": {},
   "outputs": [],
   "source": [
    "api_data = response.json()"
   ]
  },
  {
   "cell_type": "code",
   "execution_count": 5,
   "id": "2c9a11b4",
   "metadata": {},
   "outputs": [
    {
     "data": {
      "text/plain": [
       "96"
      ]
     },
     "execution_count": 5,
     "metadata": {},
     "output_type": "execute_result"
    }
   ],
   "source": [
    "len(api_data)"
   ]
  },
  {
   "cell_type": "code",
   "execution_count": 6,
   "id": "4f5cd4a4",
   "metadata": {},
   "outputs": [
    {
     "name": "stdout",
     "output_type": "stream",
     "text": [
      "[['Meigs County, Tennessee', '12758', '11894', '47', '121'], ['Montgomery County, Tennessee', '220069', '137775', '47', '125'], ['Moore County, Tennessee', '6461', '6030', '47', '127'], ['Obion County, Tennessee', '30787', '25009', '47', '131']]\n"
     ]
    }
   ],
   "source": [
    "print(api_data[1:5])"
   ]
  },
  {
   "cell_type": "code",
   "execution_count": 7,
   "id": "15b519d1",
   "metadata": {
    "scrolled": true
   },
   "outputs": [
    {
     "data": {
      "text/html": [
       "<div>\n",
       "<style scoped>\n",
       "    .dataframe tbody tr th:only-of-type {\n",
       "        vertical-align: middle;\n",
       "    }\n",
       "\n",
       "    .dataframe tbody tr th {\n",
       "        vertical-align: top;\n",
       "    }\n",
       "\n",
       "    .dataframe thead th {\n",
       "        text-align: right;\n",
       "    }\n",
       "</style>\n",
       "<table border=\"1\" class=\"dataframe\">\n",
       "  <thead>\n",
       "    <tr style=\"text-align: right;\">\n",
       "      <th></th>\n",
       "      <th>0</th>\n",
       "      <th>1</th>\n",
       "      <th>2</th>\n",
       "      <th>3</th>\n",
       "      <th>4</th>\n",
       "    </tr>\n",
       "  </thead>\n",
       "  <tbody>\n",
       "    <tr>\n",
       "      <th>0</th>\n",
       "      <td>Meigs County, Tennessee</td>\n",
       "      <td>12758</td>\n",
       "      <td>11894</td>\n",
       "      <td>47</td>\n",
       "      <td>121</td>\n",
       "    </tr>\n",
       "    <tr>\n",
       "      <th>1</th>\n",
       "      <td>Montgomery County, Tennessee</td>\n",
       "      <td>220069</td>\n",
       "      <td>137775</td>\n",
       "      <td>47</td>\n",
       "      <td>125</td>\n",
       "    </tr>\n",
       "    <tr>\n",
       "      <th>2</th>\n",
       "      <td>Moore County, Tennessee</td>\n",
       "      <td>6461</td>\n",
       "      <td>6030</td>\n",
       "      <td>47</td>\n",
       "      <td>127</td>\n",
       "    </tr>\n",
       "    <tr>\n",
       "      <th>3</th>\n",
       "      <td>Obion County, Tennessee</td>\n",
       "      <td>30787</td>\n",
       "      <td>25009</td>\n",
       "      <td>47</td>\n",
       "      <td>131</td>\n",
       "    </tr>\n",
       "    <tr>\n",
       "      <th>4</th>\n",
       "      <td>Overton County, Tennessee</td>\n",
       "      <td>22511</td>\n",
       "      <td>21332</td>\n",
       "      <td>47</td>\n",
       "      <td>133</td>\n",
       "    </tr>\n",
       "  </tbody>\n",
       "</table>\n",
       "</div>"
      ],
      "text/plain": [
       "                              0       1       2   3    4\n",
       "0       Meigs County, Tennessee   12758   11894  47  121\n",
       "1  Montgomery County, Tennessee  220069  137775  47  125\n",
       "2       Moore County, Tennessee    6461    6030  47  127\n",
       "3       Obion County, Tennessee   30787   25009  47  131\n",
       "4     Overton County, Tennessee   22511   21332  47  133"
      ]
     },
     "execution_count": 7,
     "metadata": {},
     "output_type": "execute_result"
    }
   ],
   "source": [
    "# https://www.geeksforgeeks.org/creating-pandas-dataframe-using-list-of-lists/\n",
    "\n",
    "df = pd.DataFrame(api_data[1:])\n",
    "df.head()"
   ]
  },
  {
   "cell_type": "code",
   "execution_count": 8,
   "id": "c745f0be",
   "metadata": {},
   "outputs": [],
   "source": [
    "df.columns = ['name', 'population', 'white_pop', 'state_code', 'county_code']"
   ]
  },
  {
   "cell_type": "code",
   "execution_count": 9,
   "id": "026bde74",
   "metadata": {
    "scrolled": true
   },
   "outputs": [
    {
     "data": {
      "text/html": [
       "<div>\n",
       "<style scoped>\n",
       "    .dataframe tbody tr th:only-of-type {\n",
       "        vertical-align: middle;\n",
       "    }\n",
       "\n",
       "    .dataframe tbody tr th {\n",
       "        vertical-align: top;\n",
       "    }\n",
       "\n",
       "    .dataframe thead th {\n",
       "        text-align: right;\n",
       "    }\n",
       "</style>\n",
       "<table border=\"1\" class=\"dataframe\">\n",
       "  <thead>\n",
       "    <tr style=\"text-align: right;\">\n",
       "      <th></th>\n",
       "      <th>name</th>\n",
       "      <th>population</th>\n",
       "      <th>white_pop</th>\n",
       "      <th>state_code</th>\n",
       "      <th>county_code</th>\n",
       "    </tr>\n",
       "  </thead>\n",
       "  <tbody>\n",
       "    <tr>\n",
       "      <th>0</th>\n",
       "      <td>Meigs County, Tennessee</td>\n",
       "      <td>12758</td>\n",
       "      <td>11894</td>\n",
       "      <td>47</td>\n",
       "      <td>121</td>\n",
       "    </tr>\n",
       "    <tr>\n",
       "      <th>1</th>\n",
       "      <td>Montgomery County, Tennessee</td>\n",
       "      <td>220069</td>\n",
       "      <td>137775</td>\n",
       "      <td>47</td>\n",
       "      <td>125</td>\n",
       "    </tr>\n",
       "    <tr>\n",
       "      <th>2</th>\n",
       "      <td>Moore County, Tennessee</td>\n",
       "      <td>6461</td>\n",
       "      <td>6030</td>\n",
       "      <td>47</td>\n",
       "      <td>127</td>\n",
       "    </tr>\n",
       "    <tr>\n",
       "      <th>3</th>\n",
       "      <td>Obion County, Tennessee</td>\n",
       "      <td>30787</td>\n",
       "      <td>25009</td>\n",
       "      <td>47</td>\n",
       "      <td>131</td>\n",
       "    </tr>\n",
       "    <tr>\n",
       "      <th>4</th>\n",
       "      <td>Overton County, Tennessee</td>\n",
       "      <td>22511</td>\n",
       "      <td>21332</td>\n",
       "      <td>47</td>\n",
       "      <td>133</td>\n",
       "    </tr>\n",
       "  </tbody>\n",
       "</table>\n",
       "</div>"
      ],
      "text/plain": [
       "                           name population white_pop state_code county_code\n",
       "0       Meigs County, Tennessee      12758     11894         47         121\n",
       "1  Montgomery County, Tennessee     220069    137775         47         125\n",
       "2       Moore County, Tennessee       6461      6030         47         127\n",
       "3       Obion County, Tennessee      30787     25009         47         131\n",
       "4     Overton County, Tennessee      22511     21332         47         133"
      ]
     },
     "execution_count": 9,
     "metadata": {},
     "output_type": "execute_result"
    }
   ],
   "source": [
    "df.head()"
   ]
  },
  {
   "cell_type": "code",
   "execution_count": 10,
   "id": "0ce58dbd",
   "metadata": {
    "scrolled": true
   },
   "outputs": [
    {
     "name": "stdout",
     "output_type": "stream",
     "text": [
      "<class 'pandas.core.frame.DataFrame'>\n",
      "RangeIndex: 95 entries, 0 to 94\n",
      "Data columns (total 5 columns):\n",
      " #   Column       Non-Null Count  Dtype \n",
      "---  ------       --------------  ----- \n",
      " 0   name         95 non-null     object\n",
      " 1   population   95 non-null     object\n",
      " 2   white_pop    95 non-null     object\n",
      " 3   state_code   95 non-null     object\n",
      " 4   county_code  95 non-null     object\n",
      "dtypes: object(5)\n",
      "memory usage: 3.8+ KB\n"
     ]
    }
   ],
   "source": [
    "df.info()"
   ]
  },
  {
   "cell_type": "code",
   "execution_count": 11,
   "id": "eddd9217",
   "metadata": {},
   "outputs": [],
   "source": [
    "df['population'] = pd.to_numeric(df['population'])\n",
    "df['white_pop'] = pd.to_numeric(df['white_pop'])\n"
   ]
  },
  {
   "cell_type": "code",
   "execution_count": 12,
   "id": "783b6a0a",
   "metadata": {
    "scrolled": true
   },
   "outputs": [
    {
     "data": {
      "text/html": [
       "<div>\n",
       "<style scoped>\n",
       "    .dataframe tbody tr th:only-of-type {\n",
       "        vertical-align: middle;\n",
       "    }\n",
       "\n",
       "    .dataframe tbody tr th {\n",
       "        vertical-align: top;\n",
       "    }\n",
       "\n",
       "    .dataframe thead th {\n",
       "        text-align: right;\n",
       "    }\n",
       "</style>\n",
       "<table border=\"1\" class=\"dataframe\">\n",
       "  <thead>\n",
       "    <tr style=\"text-align: right;\">\n",
       "      <th></th>\n",
       "      <th>name</th>\n",
       "      <th>population</th>\n",
       "      <th>white_pop</th>\n",
       "      <th>state_code</th>\n",
       "      <th>county_code</th>\n",
       "      <th>percent_white</th>\n",
       "    </tr>\n",
       "  </thead>\n",
       "  <tbody>\n",
       "    <tr>\n",
       "      <th>0</th>\n",
       "      <td>Meigs County, Tennessee</td>\n",
       "      <td>12758</td>\n",
       "      <td>11894</td>\n",
       "      <td>47</td>\n",
       "      <td>121</td>\n",
       "      <td>0.932278</td>\n",
       "    </tr>\n",
       "    <tr>\n",
       "      <th>1</th>\n",
       "      <td>Montgomery County, Tennessee</td>\n",
       "      <td>220069</td>\n",
       "      <td>137775</td>\n",
       "      <td>47</td>\n",
       "      <td>125</td>\n",
       "      <td>0.626054</td>\n",
       "    </tr>\n",
       "    <tr>\n",
       "      <th>2</th>\n",
       "      <td>Moore County, Tennessee</td>\n",
       "      <td>6461</td>\n",
       "      <td>6030</td>\n",
       "      <td>47</td>\n",
       "      <td>127</td>\n",
       "      <td>0.933292</td>\n",
       "    </tr>\n",
       "    <tr>\n",
       "      <th>3</th>\n",
       "      <td>Obion County, Tennessee</td>\n",
       "      <td>30787</td>\n",
       "      <td>25009</td>\n",
       "      <td>47</td>\n",
       "      <td>131</td>\n",
       "      <td>0.812323</td>\n",
       "    </tr>\n",
       "    <tr>\n",
       "      <th>4</th>\n",
       "      <td>Overton County, Tennessee</td>\n",
       "      <td>22511</td>\n",
       "      <td>21332</td>\n",
       "      <td>47</td>\n",
       "      <td>133</td>\n",
       "      <td>0.947626</td>\n",
       "    </tr>\n",
       "  </tbody>\n",
       "</table>\n",
       "</div>"
      ],
      "text/plain": [
       "                           name  population  white_pop state_code county_code  \\\n",
       "0       Meigs County, Tennessee       12758      11894         47         121   \n",
       "1  Montgomery County, Tennessee      220069     137775         47         125   \n",
       "2       Moore County, Tennessee        6461       6030         47         127   \n",
       "3       Obion County, Tennessee       30787      25009         47         131   \n",
       "4     Overton County, Tennessee       22511      21332         47         133   \n",
       "\n",
       "   percent_white  \n",
       "0       0.932278  \n",
       "1       0.626054  \n",
       "2       0.933292  \n",
       "3       0.812323  \n",
       "4       0.947626  "
      ]
     },
     "execution_count": 12,
     "metadata": {},
     "output_type": "execute_result"
    }
   ],
   "source": [
    "df['percent_white'] = df['white_pop']/df['population']\n",
    "df.head()"
   ]
  },
  {
   "cell_type": "code",
   "execution_count": 13,
   "id": "a15f85b0",
   "metadata": {},
   "outputs": [],
   "source": [
    "df = df.drop(columns=['state_code', 'county_code'])"
   ]
  },
  {
   "cell_type": "code",
   "execution_count": 14,
   "id": "13c677a3",
   "metadata": {},
   "outputs": [
    {
     "data": {
      "text/html": [
       "<div>\n",
       "<style scoped>\n",
       "    .dataframe tbody tr th:only-of-type {\n",
       "        vertical-align: middle;\n",
       "    }\n",
       "\n",
       "    .dataframe tbody tr th {\n",
       "        vertical-align: top;\n",
       "    }\n",
       "\n",
       "    .dataframe thead th {\n",
       "        text-align: right;\n",
       "    }\n",
       "</style>\n",
       "<table border=\"1\" class=\"dataframe\">\n",
       "  <thead>\n",
       "    <tr style=\"text-align: right;\">\n",
       "      <th></th>\n",
       "      <th>name</th>\n",
       "      <th>population</th>\n",
       "      <th>white_pop</th>\n",
       "      <th>percent_white</th>\n",
       "    </tr>\n",
       "  </thead>\n",
       "  <tbody>\n",
       "    <tr>\n",
       "      <th>0</th>\n",
       "      <td>Meigs County, Tennessee</td>\n",
       "      <td>12758</td>\n",
       "      <td>11894</td>\n",
       "      <td>0.932278</td>\n",
       "    </tr>\n",
       "    <tr>\n",
       "      <th>1</th>\n",
       "      <td>Montgomery County, Tennessee</td>\n",
       "      <td>220069</td>\n",
       "      <td>137775</td>\n",
       "      <td>0.626054</td>\n",
       "    </tr>\n",
       "    <tr>\n",
       "      <th>2</th>\n",
       "      <td>Moore County, Tennessee</td>\n",
       "      <td>6461</td>\n",
       "      <td>6030</td>\n",
       "      <td>0.933292</td>\n",
       "    </tr>\n",
       "    <tr>\n",
       "      <th>3</th>\n",
       "      <td>Obion County, Tennessee</td>\n",
       "      <td>30787</td>\n",
       "      <td>25009</td>\n",
       "      <td>0.812323</td>\n",
       "    </tr>\n",
       "    <tr>\n",
       "      <th>4</th>\n",
       "      <td>Overton County, Tennessee</td>\n",
       "      <td>22511</td>\n",
       "      <td>21332</td>\n",
       "      <td>0.947626</td>\n",
       "    </tr>\n",
       "  </tbody>\n",
       "</table>\n",
       "</div>"
      ],
      "text/plain": [
       "                           name  population  white_pop  percent_white\n",
       "0       Meigs County, Tennessee       12758      11894       0.932278\n",
       "1  Montgomery County, Tennessee      220069     137775       0.626054\n",
       "2       Moore County, Tennessee        6461       6030       0.933292\n",
       "3       Obion County, Tennessee       30787      25009       0.812323\n",
       "4     Overton County, Tennessee       22511      21332       0.947626"
      ]
     },
     "execution_count": 14,
     "metadata": {},
     "output_type": "execute_result"
    }
   ],
   "source": [
    "df.head()"
   ]
  },
  {
   "cell_type": "code",
   "execution_count": null,
   "id": "74dcf566",
   "metadata": {},
   "outputs": [],
   "source": []
  },
  {
   "cell_type": "code",
   "execution_count": null,
   "id": "b2f604d9",
   "metadata": {},
   "outputs": [],
   "source": []
  },
  {
   "cell_type": "code",
   "execution_count": null,
   "id": "12be50bc",
   "metadata": {},
   "outputs": [],
   "source": []
  },
  {
   "cell_type": "code",
   "execution_count": null,
   "id": "fabad942",
   "metadata": {},
   "outputs": [],
   "source": []
  },
  {
   "cell_type": "code",
   "execution_count": 15,
   "id": "2b55b639",
   "metadata": {
    "scrolled": true
   },
   "outputs": [],
   "source": [
    "df.to_csv(f'tenessee_county_pop_data_with_white_pop.csv', index=False)"
   ]
  }
 ],
 "metadata": {
  "kernelspec": {
   "display_name": "Python 3 (ipykernel)",
   "language": "python",
   "name": "python3"
  },
  "language_info": {
   "codemirror_mode": {
    "name": "ipython",
    "version": 3
   },
   "file_extension": ".py",
   "mimetype": "text/x-python",
   "name": "python",
   "nbconvert_exporter": "python",
   "pygments_lexer": "ipython3",
   "version": "3.11.5"
  }
 },
 "nbformat": 4,
 "nbformat_minor": 5
}
